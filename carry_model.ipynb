{
 "cells": [
  {
   "cell_type": "code",
   "execution_count": 3,
   "metadata": {},
   "outputs": [],
   "source": [
    "import pandas as pd\n",
    "import numpy as np\n",
    "from datetime import date"
   ]
  },
  {
   "attachments": {},
   "cell_type": "markdown",
   "metadata": {},
   "source": [
    "Tratando as bases"
   ]
  },
  {
   "cell_type": "code",
   "execution_count": 4,
   "metadata": {},
   "outputs": [],
   "source": [
    "dict_moedas = ['ZAR', 'AFS', 'AUD', 'AUS', 'ARB', 'ARS', 'CAD', 'CAN', 'CLP', \n",
    "'CHL', 'CNY', 'CNH', 'DOL', 'EUR', 'EUP', 'GBP', 'GBR', 'JPY', 'JAP', 'MXN', 'MEX',\n",
    "'NOK', 'NZD', 'NZL', 'RUB', 'SEK', 'CHF', 'SWI', 'TRY', 'TUQ']"
   ]
  },
  {
   "cell_type": "code",
   "execution_count": 40,
   "metadata": {},
   "outputs": [],
   "source": [
    "df=pd.read_csv('https://raw.githubusercontent.com/iqfc/B3_Scrapper/main/ft_moedas_1.0.csv',delimiter=',',low_memory=False)\n",
    "df=df.assign(Contr_venc=df.Contract+'_'+df['Contract Months'])\n",
    "\n",
    "df['Settlement Price']=df['Settlement Price'].str.replace(',','')\n",
    "df['Settlement Price']=pd.to_numeric(df['Settlement Price'])\n",
    "\n",
    "df['Financial Volume (R$)']=df['Financial Volume (R$)'].str.replace(',','')\n",
    "df['Financial Volume (R$)']=pd.to_numeric(df['Financial Volume (R$)'])\n",
    "\n",
    "dic_map_1={'JAN':1,'FEV':2,'MAR':3,'ABR':4,'MAI':5,'JUN':6,'JUL':7,'AGO':8,'SET':9,'OUT':10,'NOV':11,'DEZ':12}\n",
    "dic_map_2={'F':1,'G':2,'H':3,'J':4,'K':5,'M':6,'N':7,'Q':8,'U':9,'V':10,'X':11,'Z':12}\n",
    "\n",
    "def map_contrat_venc(x):\n",
    "\n",
    "    if len(x.strip())==3:\n",
    "        \n",
    "        year=2000+int(x[1:])\n",
    "        month=int(dic_map_2.get(x[0]))\n",
    "        day=1\n",
    "\n",
    "        return pd.Timestamp(year,month,day)\n",
    "    else:\n",
    "\n",
    "        year=2000+int(x[3:])\n",
    "        month=dic_map_1.get(x[:3])\n",
    "        day=1\n",
    "\n",
    "        return pd.Timestamp(year,month,day)\n",
    "\n",
    "df['Contract Months']=df['Contract Months'].apply(map_contrat_venc)"
   ]
  },
  {
   "attachments": {},
   "cell_type": "markdown",
   "metadata": {},
   "source": [
    "Volume de transações"
   ]
  },
  {
   "cell_type": "code",
   "execution_count": 41,
   "metadata": {},
   "outputs": [],
   "source": [
    "ft_vol=df.loc[:,['Contract Months','Contract','Financial Volume (R$)','Date']]\n",
    "ft_vol['Financial Volume (R$)']=pd.to_numeric(ft_vol['Financial Volume (R$)'])\n",
    "ft_vol.rename(columns={'Financial Volume (R$)': 'Financial_Volume_RS'}, inplace=True)\n",
    "ft_vol.Date=pd.to_datetime(ft_vol.Date)"
   ]
  },
  {
   "attachments": {},
   "cell_type": "markdown",
   "metadata": {},
   "source": [
    "Settlement price dos futuros"
   ]
  },
  {
   "cell_type": "code",
   "execution_count": 42,
   "metadata": {},
   "outputs": [],
   "source": [
    "ft_price=df.loc[:,['Contract Months','Contract','Settlement Price','Date']]\n",
    "ft_price['Settlement Price']=pd.to_numeric(ft_price['Settlement Price'])\n",
    "ft_price.Date=pd.to_datetime(ft_vol.Date)"
   ]
  },
  {
   "attachments": {},
   "cell_type": "markdown",
   "metadata": {},
   "source": [
    "Importando Spot Prices"
   ]
  },
  {
   "cell_type": "code",
   "execution_count": 43,
   "metadata": {},
   "outputs": [],
   "source": [
    "# spot=pd.read_csv('CSV_moedas_1.csv',delimiter=',').set_index('Unnamed: 0')\n",
    "spot=pd.read_csv('https://raw.githubusercontent.com/iqfc/B3_Scrapper/main/CSV_moedas_1.csv',delimiter=',')\n",
    "spot['DOL']=spot.BRL\n",
    "spot['Unnamed: 0']=pd.to_datetime(spot['Unnamed: 0'])\n",
    "spot=spot.set_index('Unnamed: 0')\n",
    "spot.index.name='Date'\n"
   ]
  },
  {
   "attachments": {},
   "cell_type": "markdown",
   "metadata": {},
   "source": [
    "Geting only the contracts available in all bases"
   ]
  },
  {
   "cell_type": "code",
   "execution_count": 44,
   "metadata": {},
   "outputs": [],
   "source": [
    "contracts_available=pd.DataFrame(spot.columns).merge(pd.DataFrame(df.Contract.unique()),how='inner')\n",
    "contracts_available=list(contracts_available[0])\n",
    "\n",
    "spot=spot.loc[:,contracts_available]\n",
    "ft_price=ft_price[ft_price.Contract.isin(contracts_available)]\n",
    "ft_vol=ft_vol[ft_vol.Contract.isin(contracts_available)]"
   ]
  },
  {
   "attachments": {},
   "cell_type": "markdown",
   "metadata": {},
   "source": [
    "Backtest Structure Here"
   ]
  },
  {
   "cell_type": "code",
   "execution_count": 45,
   "metadata": {},
   "outputs": [],
   "source": [
    "#Detalhe importante, para comparar datas usando o pandas agora precisamos colocar tudo no formado do proprio pandas, diferente do\n",
    "#que faziamos antes no datetime.date, ou apenas o date, assim o startdate e end_date devem estar no formato Timestap\n",
    "\n",
    "\n",
    "start_date=pd.Timestamp(2006,1,1)\n",
    "end_date=pd.Timestamp(2022,12,31)\n",
    "\n",
    "rebal=1\n",
    "\n",
    "#não precisa de lookback pois visamos pegar a data mais atual\n",
    "\n",
    "\n",
    "data_analise=start_date-pd.DateOffset(days=4)\n",
    "\n",
    "#Presiso dar o slice nas 3 bases ftvol, ft price e spot\n",
    "\n",
    "#O volume será utilizado como filtro de liquidez, utilizaremos apenas contratos com liquidez maior que 0\n",
    "volume=ft_vol[(ft_vol.Date > data_analise) & (ft_vol.Date < start_date) & (ft_vol.Financial_Volume_RS>0)]\n",
    "spot=spot[(ft_vol.Date > data_analise) & (ft_vol.Date < start_date) & (ft_vol.Financial_Volume_RS>0)]"
   ]
  }
 ],
 "metadata": {
  "kernelspec": {
   "display_name": "Python 3",
   "language": "python",
   "name": "python3"
  },
  "language_info": {
   "codemirror_mode": {
    "name": "ipython",
    "version": 3
   },
   "file_extension": ".py",
   "mimetype": "text/x-python",
   "name": "python",
   "nbconvert_exporter": "python",
   "pygments_lexer": "ipython3",
   "version": "3.9.6"
  },
  "orig_nbformat": 4,
  "vscode": {
   "interpreter": {
    "hash": "884e1b99fc48dc48422808abfc44aaf9ffbd8ca8a6b8a51cf6d9741ea9cbb2df"
   }
  }
 },
 "nbformat": 4,
 "nbformat_minor": 2
}
