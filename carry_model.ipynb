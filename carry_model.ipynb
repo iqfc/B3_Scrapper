{
 "cells": [
  {
   "cell_type": "code",
   "execution_count": 1,
   "metadata": {},
   "outputs": [],
   "source": [
    "import pandas as pd\n",
    "import numpy as np\n",
    "from datetime import date"
   ]
  },
  {
   "attachments": {},
   "cell_type": "markdown",
   "metadata": {},
   "source": [
    "Tratando as bases"
   ]
  },
  {
   "cell_type": "code",
   "execution_count": 44,
   "metadata": {},
   "outputs": [],
   "source": [
    "dict_moedas = ['ZAR', 'AFS', 'AUD', 'AUS', 'ARB', 'ARS', 'CAD', 'CAN', 'CLP', \n",
    "'CHL', 'CNY', 'CNH', 'DOL', 'EUR', 'EUP', 'GBP', 'GBR', 'JPY', 'JAP', 'MXN', 'MEX',\n",
    "'NOK', 'NZD', 'NZL', 'RUB', 'SEK', 'CHF', 'SWI', 'TRY', 'TUQ']"
   ]
  },
  {
   "cell_type": "code",
   "execution_count": 10,
   "metadata": {},
   "outputs": [],
   "source": [
    "# df=pd.read_csv('ft_moedas_1.0.csv',delimiter=',')\n",
    "df=pd.read_csv('https://raw.githubusercontent.com/iqfc/B3_Scrapper/main/ft_moedas_1.0.csv',delimiter=',',low_memory=False)\n",
    "df=df.assign(Contr_venc=df.Contract+'_'+df['Contract Months'])\n",
    "\n",
    "df['Settlement Price']=df['Settlement Price'].str.replace(',','')\n",
    "df['Settlement Price']=pd.to_numeric(df['Settlement Price'])\n",
    "\n",
    "df['Financial Volume (R$)']=df['Financial Volume (R$)'].str.replace(',','')\n",
    "df['Financial Volume (R$)']=pd.to_numeric(df['Financial Volume (R$)'])"
   ]
  },
  {
   "attachments": {},
   "cell_type": "markdown",
   "metadata": {},
   "source": [
    "Volume de transações"
   ]
  },
  {
   "cell_type": "code",
   "execution_count": 53,
   "metadata": {},
   "outputs": [],
   "source": [
    "ft_vol=pd.DataFrame([df.Date,df['Contract Months'],df['Contract'],df['Financial Volume (R$)']]).T\n",
    "ft_vol.Date=pd.to_datetime(ft_vol.Date).dt.date"
   ]
  },
  {
   "attachments": {},
   "cell_type": "markdown",
   "metadata": {},
   "source": [
    "Settlement price dos futuros"
   ]
  },
  {
   "cell_type": "code",
   "execution_count": 60,
   "metadata": {},
   "outputs": [],
   "source": [
    "ft_price=pd.DataFrame([df.Date,df['Contract Months'],df['Contract'],df['Settlement Price']]).T\n",
    "ft_price.Date=pd.to_datetime(ft_vol.Date)"
   ]
  },
  {
   "attachments": {},
   "cell_type": "markdown",
   "metadata": {},
   "source": [
    "Importando Spot Prices"
   ]
  },
  {
   "cell_type": "code",
   "execution_count": 52,
   "metadata": {},
   "outputs": [],
   "source": [
    "# spot=pd.read_csv('CSV_moedas_1.csv',delimiter=',').set_index('Unnamed: 0')\n",
    "spot=pd.read_csv('https://raw.githubusercontent.com/iqfc/B3_Scrapper/main/CSV_moedas_1.csv',delimiter=',')\n",
    "spot['DOL']=spot.BRL\n",
    "spot['Unnamed: 0']=pd.to_datetime(spot['Unnamed: 0']).dt.date\n",
    "spot=spot.set_index('Unnamed: 0')\n",
    "spot.index.name='Date'\n"
   ]
  },
  {
   "attachments": {},
   "cell_type": "markdown",
   "metadata": {},
   "source": [
    "Geting only the contracts available in all bases"
   ]
  },
  {
   "cell_type": "code",
   "execution_count": 36,
   "metadata": {},
   "outputs": [],
   "source": [
    "contracts_available=pd.DataFrame(spot.columns).merge(pd.DataFrame(df.Contract.unique()),how='inner')\n",
    "contracts_available=list(contracts_available[0])\n",
    "\n",
    "spot=spot.loc[:,contracts_available]\n",
    "ft_price=ft_price[ft_price.Contract.isin(contracts_available)]\n",
    "ft_vol=ft_vol[ft_vol.Contract.isin(contracts_available)]"
   ]
  },
  {
   "attachments": {},
   "cell_type": "markdown",
   "metadata": {},
   "source": [
    "Backtest Structure Here"
   ]
  },
  {
   "cell_type": "code",
   "execution_count": 58,
   "metadata": {},
   "outputs": [],
   "source": [
    "#Detalhe importante, para comparar datas usando o pandas agora precisamos colocar tudo no formado do proprio pandas, diferente do\n",
    "#que faziamos antes no datetime.date, ou apenas o date, assim o startdate e end_date devem estar \n",
    "\n",
    "\n",
    "start_date=pd.Timestamp(2006,1,1)\n",
    "end_date=date(2022,12,31)\n",
    "\n",
    "rebal=1\n",
    "\n",
    "#não precisa de lookback pois visamos pegar a data mais atual\n",
    "\n",
    "\n",
    "data_analise=start_date-pd.DateOffset(days=5)\n",
    "\n",
    "#Presiso dar o slice nas 3 bases ftvol, ft price e spot\n",
    "\n",
    "\n"
   ]
  },
  {
   "cell_type": "code",
   "execution_count": null,
   "metadata": {},
   "outputs": [],
   "source": []
  },
  {
   "cell_type": "code",
   "execution_count": 43,
   "metadata": {},
   "outputs": [],
   "source": [
    "price=spot.loc[data_analise:start_date]"
   ]
  },
  {
   "cell_type": "code",
   "execution_count": 61,
   "metadata": {},
   "outputs": [],
   "source": [
    "futures=ft_price[(ft_price.Date > data_analise) & (ft_price.Date < start_date)]"
   ]
  }
 ],
 "metadata": {
  "kernelspec": {
   "display_name": "Python 3",
   "language": "python",
   "name": "python3"
  },
  "language_info": {
   "codemirror_mode": {
    "name": "ipython",
    "version": 3
   },
   "file_extension": ".py",
   "mimetype": "text/x-python",
   "name": "python",
   "nbconvert_exporter": "python",
   "pygments_lexer": "ipython3",
   "version": "3.9.6"
  },
  "orig_nbformat": 4,
  "vscode": {
   "interpreter": {
    "hash": "884e1b99fc48dc48422808abfc44aaf9ffbd8ca8a6b8a51cf6d9741ea9cbb2df"
   }
  }
 },
 "nbformat": 4,
 "nbformat_minor": 2
}
